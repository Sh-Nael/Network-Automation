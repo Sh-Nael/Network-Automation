{
 "cells": [
  {
   "cell_type": "code",
   "execution_count": 1,
   "metadata": {},
   "outputs": [],
   "source": [
    "#importing libraries\n",
    "\n",
    "import ipaddress\n",
    "from pandas import DataFrame\n",
    "import pandas as pd\n",
    "import xlsxwriter"
   ]
  },
  {
   "cell_type": "code",
   "execution_count": 2,
   "metadata": {},
   "outputs": [
    {
     "data": {
      "text/html": [
       "<div>\n",
       "<style scoped>\n",
       "    .dataframe tbody tr th:only-of-type {\n",
       "        vertical-align: middle;\n",
       "    }\n",
       "\n",
       "    .dataframe tbody tr th {\n",
       "        vertical-align: top;\n",
       "    }\n",
       "\n",
       "    .dataframe thead th {\n",
       "        text-align: right;\n",
       "    }\n",
       "</style>\n",
       "<table border=\"1\" class=\"dataframe\">\n",
       "  <thead>\n",
       "    <tr style=\"text-align: right;\">\n",
       "      <th></th>\n",
       "      <th>IPv4_addresses</th>\n",
       "    </tr>\n",
       "  </thead>\n",
       "  <tbody>\n",
       "    <tr>\n",
       "      <th>0</th>\n",
       "      <td>10.10.85.118</td>\n",
       "    </tr>\n",
       "    <tr>\n",
       "      <th>1</th>\n",
       "      <td>10.41.85.125</td>\n",
       "    </tr>\n",
       "    <tr>\n",
       "      <th>2</th>\n",
       "      <td>10.10.85.119</td>\n",
       "    </tr>\n",
       "    <tr>\n",
       "      <th>3</th>\n",
       "      <td>10.10.85.124</td>\n",
       "    </tr>\n",
       "    <tr>\n",
       "      <th>4</th>\n",
       "      <td>10.10.85.125</td>\n",
       "    </tr>\n",
       "  </tbody>\n",
       "</table>\n",
       "</div>"
      ],
      "text/plain": [
       "  IPv4_addresses\n",
       "0   10.10.85.118\n",
       "1   10.41.85.125\n",
       "2   10.10.85.119\n",
       "3   10.10.85.124\n",
       "4   10.10.85.125"
      ]
     },
     "execution_count": 2,
     "metadata": {},
     "output_type": "execute_result"
    }
   ],
   "source": [
    "#Reading the excel file\n",
    "\n",
    "filename = r'IPv4.xls'\n",
    "df = pd.read_excel(filename)\n",
    "df.head()"
   ]
  },
  {
   "cell_type": "code",
   "execution_count": 3,
   "metadata": {},
   "outputs": [],
   "source": [
    "#Loading the 1st column of the excel into a list named ipv4list\n",
    "\n",
    "ipv4list = list(df['IPv4_addresses'])\n",
    "ipv6list = []\n",
    "innerlist = []"
   ]
  },
  {
   "cell_type": "code",
   "execution_count": 4,
   "metadata": {
    "scrolled": true
   },
   "outputs": [
    {
     "name": "stdout",
     "output_type": "stream",
     "text": [
      "['64:ff9b::a0a:5576/128', '64:ff9b::a29:557d/128', '64:ff9b::a0a:5577/128', '64:ff9b::a0a:557c/128', '64:ff9b::a0a:557d/128', '64:ff9b::a0a:557d/128', '64:ff9b::a50:b422/128', '64:ff9b::a29:5576/128', '64:ff9b::a29:5577/128', '64:ff9b::a29:557c/128']\n"
     ]
    }
   ],
   "source": [
    "#Converting Ipv4s to IPv6. In this case we needed to create DNS64 addresses, \n",
    "#You may change the address structure as you want(string part)\n",
    "\n",
    "def convertusingipaddress(ipv4address):\n",
    "    ipv6_result = ipaddress.IPv6Address('64:ff9b::' + ipv4address).compressed\n",
    "    innerlist.append(ipv6_result + '/128')\n",
    "    \n",
    "    \n",
    "\n",
    "for ipv4 in ipv4list:\n",
    "    ipv6_value = convertusingipaddress(ipv4)\n",
    "\n",
    "#Saving both IPv4 and Converted IPv6 to a new excel file (result.xls)\n",
    "    \n",
    "print(innerlist)\n",
    "df1 = pd.DataFrame(innerlist)\n",
    "writer = pd.ExcelWriter('result.xls', engine='xlsxwriter')\n",
    "df.to_excel(writer, index = 0 ,sheet_name='Sheet1', startcol=0)\n",
    "df1.to_excel(writer, index = 0 ,sheet_name='Sheet1', startcol=1)\n",
    "writer.save()    \n",
    "        "
   ]
  },
  {
   "cell_type": "code",
   "execution_count": null,
   "metadata": {},
   "outputs": [],
   "source": []
  }
 ],
 "metadata": {
  "kernelspec": {
   "display_name": "Python 3",
   "language": "python",
   "name": "python3"
  },
  "language_info": {
   "codemirror_mode": {
    "name": "ipython",
    "version": 3
   },
   "file_extension": ".py",
   "mimetype": "text/x-python",
   "name": "python",
   "nbconvert_exporter": "python",
   "pygments_lexer": "ipython3",
   "version": "3.6.9"
  }
 },
 "nbformat": 4,
 "nbformat_minor": 4
}
